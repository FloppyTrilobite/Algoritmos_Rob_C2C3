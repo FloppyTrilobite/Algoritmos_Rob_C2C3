{
 "cells": [
  {
   "attachments": {},
   "cell_type": "markdown",
   "metadata": {},
   "source": [
    "Os Dois algoritmos utilizados foram: Algoritmo Genético e um algoritmo baseado no Simulated Annealing (ou Recozimento Simulado)\n",
    "\n",
    "Os parâmetros utilizados para os dois foram os mesmos:\n",
    "    mochila[peso, valor] = [2,1],[4,2],[5,3],[2,2],[4,3],[6,2]\n",
    "    peso máximo = 11\n",
    "    número máximo de itens = 4\n",
    "    quantidade de gerações = 50\n",
    "\n",
    "1. Explicando os Algoritmos\n",
    "\n",
    "Ambos os algoritmos foram explicados nos comentários de cada código, mas uma pequena síntese dos dois seria:\n",
    "\n",
    "    Algoritmo Genético --\n",
    "        - é criada uma população inicial gerada aleatoriamente com uma quantidade X de indivíduos\n",
    "        passos de cada geração:\n",
    "            - os indivíduos com os menores valores, ou peso e quantidade que ultrapasse o máximo estabelecido são jogados para baixo e podem ser eliminados\n",
    "            - os indivíduos restantes, geram \"filhos\" (criados a partir de metade/metade de dois \"pais\" escolhidos aleatoriamente)\n",
    "            - uma porcentagem da população sofre mutações\n",
    "    \n",
    "    Recozimento Simulado --\n",
    "        - é criada um indivíduo inicial gerado aleatoriamente\n",
    "        passos de cada geração:\n",
    "            - é criado um novo indivído \"vizinho\", semelhante ao original, com poucas diferenças\n",
    "            - caso esse vizinho tenha valor maior, e ainda esteja de acordo com os limites máximos, ele substitui o original\n",
    "\n",
    "2. Comparando os resultados\n",
    "\n",
    "    Algoritmo Genético --\n",
    "    O algoritmo genético costuma ficar em torno da média, geralmente acima dela, não tendo muita variação após as primeiras, no entanto, as gerações iniciais tem um salto grande de melhora nos valores em relação à população inicial.\n",
    "    O código é mais robusto, mas é importante lembrar que funciona para uma população, e que quanto mais gerações, maior o valor médio conseguido, porém, se o tamanho da população aumenta, serão necessárias mais gerações. Nesse caso, a quantidade de itens na mochila não influencia tanto no desempenho, e sim os fatores citados anteriormente. Funcionamento mais parecido com aprendizado de máquina.\n",
    "\n",
    "    ![Alt text](image.png) (exemplo do desempenho do algoritmo genético)\n",
    "\n",
    "    Recozimento Simulado --\n",
    "    O algorimo de recozimento simulado tende a chegar a uma solução ótima (com um valor médio e o peso máximo possível), relativamente cedo, mantendo esse valor até o fim, o que é muito bom, apesar de só funcionar para 1 indivíduo. Esse algoritmo testa possibilidades mais próximas a um valor, o que significa que ao aumentar a lista de itens ou o número de indivíduos originais, o número de gerações necessárias para chegar a uma solução ótima aumentaria exponencialmente para qualquer um dos casos. É um algoritmo que trabalha mais com força de processamento bruta. \n",
    "\n",
    "    ![Alt text](image2.png) (exemplo do desempenho do algoritmo de Recozimento Simulado)\n",
    "\n",
    "3. Conclusão\n",
    "\n",
    "Finalmente, baseado nos pontos observados, é possível afirmar que o uso de cada um dos algoritmos depende da aplicação. Enquanto o resultado de recozimento simulado foi melhor e mais consistente para os parâmetros utilizados, ele perde bastante no fator de escalabilidade em relação ao algoritmo genético. Logo, usaria o algoritmo genético para um grupo de amostragem maior, ou para uma mochila com mais itens possíveis, e usaria o outro algoritmo para poucos itens e para poucos indivíduos de uma população.   \n"
   ]
  }
 ],
 "metadata": {
  "language_info": {
   "name": "python"
  },
  "orig_nbformat": 4
 },
 "nbformat": 4,
 "nbformat_minor": 2
}
